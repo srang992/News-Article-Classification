{
 "cells": [
  {
   "cell_type": "code",
   "execution_count": 1,
   "metadata": {
    "ExecuteTime": {
     "end_time": "2021-04-02T05:50:20.301170Z",
     "start_time": "2021-04-02T05:50:18.516775Z"
    }
   },
   "outputs": [],
   "source": [
    "import pandas as pd\n",
    "import numpy as np\n",
    "import matplotlib.pyplot as plt\n",
    "import seaborn as sns"
   ]
  },
  {
   "cell_type": "code",
   "execution_count": 2,
   "metadata": {
    "ExecuteTime": {
     "end_time": "2021-04-02T05:50:21.265258Z",
     "start_time": "2021-04-02T05:50:21.156741Z"
    }
   },
   "outputs": [],
   "source": [
    "news_data=pd.read_csv(\"/home//subhradeep//Desktop//Datasets//Articles.csv\",encoding=\"ISO-8859-1\")"
   ]
  },
  {
   "cell_type": "markdown",
   "metadata": {},
   "source": [
    "# Data Wrangling"
   ]
  },
  {
   "cell_type": "code",
   "execution_count": 3,
   "metadata": {
    "ExecuteTime": {
     "end_time": "2021-04-02T05:50:24.022045Z",
     "start_time": "2021-04-02T05:50:23.984704Z"
    }
   },
   "outputs": [
    {
     "data": {
      "text/html": [
       "<div>\n",
       "<style scoped>\n",
       "    .dataframe tbody tr th:only-of-type {\n",
       "        vertical-align: middle;\n",
       "    }\n",
       "\n",
       "    .dataframe tbody tr th {\n",
       "        vertical-align: top;\n",
       "    }\n",
       "\n",
       "    .dataframe thead th {\n",
       "        text-align: right;\n",
       "    }\n",
       "</style>\n",
       "<table border=\"1\" class=\"dataframe\">\n",
       "  <thead>\n",
       "    <tr style=\"text-align: right;\">\n",
       "      <th></th>\n",
       "      <th>Article</th>\n",
       "      <th>Date</th>\n",
       "      <th>Heading</th>\n",
       "      <th>NewsType</th>\n",
       "    </tr>\n",
       "  </thead>\n",
       "  <tbody>\n",
       "    <tr>\n",
       "      <th>0</th>\n",
       "      <td>KARACHI: The Sindh government has decided to b...</td>\n",
       "      <td>1/1/2015</td>\n",
       "      <td>sindh govt decides to cut public transport far...</td>\n",
       "      <td>business</td>\n",
       "    </tr>\n",
       "    <tr>\n",
       "      <th>1</th>\n",
       "      <td>HONG KONG: Asian markets started 2015 on an up...</td>\n",
       "      <td>1/2/2015</td>\n",
       "      <td>asia stocks up in new year trad</td>\n",
       "      <td>business</td>\n",
       "    </tr>\n",
       "    <tr>\n",
       "      <th>2</th>\n",
       "      <td>HONG KONG:  Hong Kong shares opened 0.66 perce...</td>\n",
       "      <td>1/5/2015</td>\n",
       "      <td>hong kong stocks open 0.66 percent lower</td>\n",
       "      <td>business</td>\n",
       "    </tr>\n",
       "    <tr>\n",
       "      <th>3</th>\n",
       "      <td>HONG KONG: Asian markets tumbled Tuesday follo...</td>\n",
       "      <td>1/6/2015</td>\n",
       "      <td>asian stocks sink euro near nine year</td>\n",
       "      <td>business</td>\n",
       "    </tr>\n",
       "    <tr>\n",
       "      <th>4</th>\n",
       "      <td>NEW YORK: US oil prices Monday slipped below $...</td>\n",
       "      <td>1/6/2015</td>\n",
       "      <td>us oil prices slip below 50 a barr</td>\n",
       "      <td>business</td>\n",
       "    </tr>\n",
       "    <tr>\n",
       "      <th>5</th>\n",
       "      <td>New York: Oil prices tumbled Tuesday to fresh ...</td>\n",
       "      <td>1/7/2015</td>\n",
       "      <td>oil hits new 5.5 year lows as saudis defend</td>\n",
       "      <td>business</td>\n",
       "    </tr>\n",
       "    <tr>\n",
       "      <th>6</th>\n",
       "      <td>KARACHI: Strong bulls on Friday pulled the ben...</td>\n",
       "      <td>1/9/2015</td>\n",
       "      <td>bullish kse jumps over 33000 psychological bar...</td>\n",
       "      <td>business</td>\n",
       "    </tr>\n",
       "    <tr>\n",
       "      <th>7</th>\n",
       "      <td>Singapore: Oil fell further in Asia Monday, wi...</td>\n",
       "      <td>1/12/2015</td>\n",
       "      <td>oil falls further in asian trad</td>\n",
       "      <td>business</td>\n",
       "    </tr>\n",
       "    <tr>\n",
       "      <th>8</th>\n",
       "      <td>KARACHI: Wholesale market rates for sugar drop...</td>\n",
       "      <td>1/13/2015</td>\n",
       "      <td>sugar prices drop to rs 49.80 in sind</td>\n",
       "      <td>business</td>\n",
       "    </tr>\n",
       "    <tr>\n",
       "      <th>9</th>\n",
       "      <td>SYDNEY: Oil prices fell 1 percent on Wednesday...</td>\n",
       "      <td>1/14/2015</td>\n",
       "      <td>oil extends losses as world bank cuts growth for</td>\n",
       "      <td>business</td>\n",
       "    </tr>\n",
       "  </tbody>\n",
       "</table>\n",
       "</div>"
      ],
      "text/plain": [
       "                                             Article       Date  \\\n",
       "0  KARACHI: The Sindh government has decided to b...   1/1/2015   \n",
       "1  HONG KONG: Asian markets started 2015 on an up...   1/2/2015   \n",
       "2  HONG KONG:  Hong Kong shares opened 0.66 perce...   1/5/2015   \n",
       "3  HONG KONG: Asian markets tumbled Tuesday follo...   1/6/2015   \n",
       "4  NEW YORK: US oil prices Monday slipped below $...   1/6/2015   \n",
       "5  New York: Oil prices tumbled Tuesday to fresh ...   1/7/2015   \n",
       "6  KARACHI: Strong bulls on Friday pulled the ben...   1/9/2015   \n",
       "7  Singapore: Oil fell further in Asia Monday, wi...  1/12/2015   \n",
       "8  KARACHI: Wholesale market rates for sugar drop...  1/13/2015   \n",
       "9  SYDNEY: Oil prices fell 1 percent on Wednesday...  1/14/2015   \n",
       "\n",
       "                                             Heading  NewsType  \n",
       "0  sindh govt decides to cut public transport far...  business  \n",
       "1                    asia stocks up in new year trad  business  \n",
       "2           hong kong stocks open 0.66 percent lower  business  \n",
       "3             asian stocks sink euro near nine year   business  \n",
       "4                 us oil prices slip below 50 a barr  business  \n",
       "5       oil hits new 5.5 year lows as saudis defend   business  \n",
       "6  bullish kse jumps over 33000 psychological bar...  business  \n",
       "7                    oil falls further in asian trad  business  \n",
       "8              sugar prices drop to rs 49.80 in sind  business  \n",
       "9   oil extends losses as world bank cuts growth for  business  "
      ]
     },
     "execution_count": 3,
     "metadata": {},
     "output_type": "execute_result"
    }
   ],
   "source": [
    "news_data.head(10)"
   ]
  },
  {
   "cell_type": "code",
   "execution_count": 4,
   "metadata": {
    "ExecuteTime": {
     "end_time": "2021-04-02T05:50:28.709871Z",
     "start_time": "2021-04-02T05:50:28.701902Z"
    }
   },
   "outputs": [],
   "source": [
    "news_data.rename(columns={'Article':'article','Date':'date','Heading':'heading','NewsType':'newstype'},\n",
    "                 inplace=True)"
   ]
  },
  {
   "cell_type": "code",
   "execution_count": 5,
   "metadata": {
    "ExecuteTime": {
     "end_time": "2021-04-02T05:50:30.045822Z",
     "start_time": "2021-04-02T05:50:30.029011Z"
    }
   },
   "outputs": [
    {
     "data": {
      "text/html": [
       "<div>\n",
       "<style scoped>\n",
       "    .dataframe tbody tr th:only-of-type {\n",
       "        vertical-align: middle;\n",
       "    }\n",
       "\n",
       "    .dataframe tbody tr th {\n",
       "        vertical-align: top;\n",
       "    }\n",
       "\n",
       "    .dataframe thead th {\n",
       "        text-align: right;\n",
       "    }\n",
       "</style>\n",
       "<table border=\"1\" class=\"dataframe\">\n",
       "  <thead>\n",
       "    <tr style=\"text-align: right;\">\n",
       "      <th></th>\n",
       "      <th>article</th>\n",
       "      <th>date</th>\n",
       "      <th>heading</th>\n",
       "      <th>newstype</th>\n",
       "    </tr>\n",
       "  </thead>\n",
       "  <tbody>\n",
       "    <tr>\n",
       "      <th>0</th>\n",
       "      <td>KARACHI: The Sindh government has decided to b...</td>\n",
       "      <td>1/1/2015</td>\n",
       "      <td>sindh govt decides to cut public transport far...</td>\n",
       "      <td>business</td>\n",
       "    </tr>\n",
       "    <tr>\n",
       "      <th>1</th>\n",
       "      <td>HONG KONG: Asian markets started 2015 on an up...</td>\n",
       "      <td>1/2/2015</td>\n",
       "      <td>asia stocks up in new year trad</td>\n",
       "      <td>business</td>\n",
       "    </tr>\n",
       "    <tr>\n",
       "      <th>2</th>\n",
       "      <td>HONG KONG:  Hong Kong shares opened 0.66 perce...</td>\n",
       "      <td>1/5/2015</td>\n",
       "      <td>hong kong stocks open 0.66 percent lower</td>\n",
       "      <td>business</td>\n",
       "    </tr>\n",
       "    <tr>\n",
       "      <th>3</th>\n",
       "      <td>HONG KONG: Asian markets tumbled Tuesday follo...</td>\n",
       "      <td>1/6/2015</td>\n",
       "      <td>asian stocks sink euro near nine year</td>\n",
       "      <td>business</td>\n",
       "    </tr>\n",
       "    <tr>\n",
       "      <th>4</th>\n",
       "      <td>NEW YORK: US oil prices Monday slipped below $...</td>\n",
       "      <td>1/6/2015</td>\n",
       "      <td>us oil prices slip below 50 a barr</td>\n",
       "      <td>business</td>\n",
       "    </tr>\n",
       "  </tbody>\n",
       "</table>\n",
       "</div>"
      ],
      "text/plain": [
       "                                             article      date  \\\n",
       "0  KARACHI: The Sindh government has decided to b...  1/1/2015   \n",
       "1  HONG KONG: Asian markets started 2015 on an up...  1/2/2015   \n",
       "2  HONG KONG:  Hong Kong shares opened 0.66 perce...  1/5/2015   \n",
       "3  HONG KONG: Asian markets tumbled Tuesday follo...  1/6/2015   \n",
       "4  NEW YORK: US oil prices Monday slipped below $...  1/6/2015   \n",
       "\n",
       "                                             heading  newstype  \n",
       "0  sindh govt decides to cut public transport far...  business  \n",
       "1                    asia stocks up in new year trad  business  \n",
       "2           hong kong stocks open 0.66 percent lower  business  \n",
       "3             asian stocks sink euro near nine year   business  \n",
       "4                 us oil prices slip below 50 a barr  business  "
      ]
     },
     "execution_count": 5,
     "metadata": {},
     "output_type": "execute_result"
    }
   ],
   "source": [
    "news_data.head()"
   ]
  },
  {
   "cell_type": "code",
   "execution_count": 6,
   "metadata": {
    "ExecuteTime": {
     "end_time": "2021-04-02T05:50:38.425034Z",
     "start_time": "2021-04-02T05:50:38.414772Z"
    },
    "scrolled": true
   },
   "outputs": [
    {
     "data": {
      "text/plain": [
       "'KARACHI: The Sindh government has decided to bring down public transport fares by 7 per cent due to massive reduction in petroleum product prices by the federal government, Geo News reported.Sources said reduction in fares will be applicable on public transport, rickshaw, taxi and other means of traveling.Meanwhile, Karachi Transport Ittehad (KTI) has refused to abide by the government decision.KTI President Irshad Bukhari said the commuters are charged the lowest fares in Karachi as compare to other parts of the country, adding that 80pc vehicles run on Compressed Natural Gas (CNG). Bukhari said Karachi transporters will cut fares when decrease in CNG prices will be made.                        \\r\\n\\r\\n\\r\\n\\r\\n\\r\\n\\r\\n\\r\\n\\r\\n\\r\\n\\r\\n\\r\\n'"
      ]
     },
     "execution_count": 6,
     "metadata": {},
     "output_type": "execute_result"
    }
   ],
   "source": [
    "news_data.article[0]"
   ]
  },
  {
   "cell_type": "code",
   "execution_count": 7,
   "metadata": {
    "ExecuteTime": {
     "end_time": "2021-04-02T05:50:44.244059Z",
     "start_time": "2021-04-02T05:50:44.236410Z"
    }
   },
   "outputs": [
    {
     "data": {
      "text/plain": [
       "'sindh govt decides to cut public transport fares by 7pc kti rej'"
      ]
     },
     "execution_count": 7,
     "metadata": {},
     "output_type": "execute_result"
    }
   ],
   "source": [
    "news_data.heading[0]"
   ]
  },
  {
   "cell_type": "code",
   "execution_count": 8,
   "metadata": {
    "ExecuteTime": {
     "end_time": "2021-04-02T05:50:48.436844Z",
     "start_time": "2021-04-02T05:50:48.388115Z"
    }
   },
   "outputs": [],
   "source": [
    "news_data['article']=news_data['article'].str.split(':',expand=True)[1]"
   ]
  },
  {
   "cell_type": "code",
   "execution_count": 9,
   "metadata": {
    "ExecuteTime": {
     "end_time": "2021-04-02T05:50:49.504381Z",
     "start_time": "2021-04-02T05:50:49.489673Z"
    },
    "scrolled": true
   },
   "outputs": [
    {
     "data": {
      "text/html": [
       "<div>\n",
       "<style scoped>\n",
       "    .dataframe tbody tr th:only-of-type {\n",
       "        vertical-align: middle;\n",
       "    }\n",
       "\n",
       "    .dataframe tbody tr th {\n",
       "        vertical-align: top;\n",
       "    }\n",
       "\n",
       "    .dataframe thead th {\n",
       "        text-align: right;\n",
       "    }\n",
       "</style>\n",
       "<table border=\"1\" class=\"dataframe\">\n",
       "  <thead>\n",
       "    <tr style=\"text-align: right;\">\n",
       "      <th></th>\n",
       "      <th>article</th>\n",
       "      <th>date</th>\n",
       "      <th>heading</th>\n",
       "      <th>newstype</th>\n",
       "    </tr>\n",
       "  </thead>\n",
       "  <tbody>\n",
       "    <tr>\n",
       "      <th>0</th>\n",
       "      <td>The Sindh government has decided to bring dow...</td>\n",
       "      <td>1/1/2015</td>\n",
       "      <td>sindh govt decides to cut public transport far...</td>\n",
       "      <td>business</td>\n",
       "    </tr>\n",
       "    <tr>\n",
       "      <th>1</th>\n",
       "      <td>Asian markets started 2015 on an upswing in l...</td>\n",
       "      <td>1/2/2015</td>\n",
       "      <td>asia stocks up in new year trad</td>\n",
       "      <td>business</td>\n",
       "    </tr>\n",
       "    <tr>\n",
       "      <th>2</th>\n",
       "      <td>Hong Kong shares opened 0.66 percent lower M...</td>\n",
       "      <td>1/5/2015</td>\n",
       "      <td>hong kong stocks open 0.66 percent lower</td>\n",
       "      <td>business</td>\n",
       "    </tr>\n",
       "    <tr>\n",
       "      <th>3</th>\n",
       "      <td>Asian markets tumbled Tuesday following painf...</td>\n",
       "      <td>1/6/2015</td>\n",
       "      <td>asian stocks sink euro near nine year</td>\n",
       "      <td>business</td>\n",
       "    </tr>\n",
       "    <tr>\n",
       "      <th>4</th>\n",
       "      <td>US oil prices Monday slipped below $50 a barr...</td>\n",
       "      <td>1/6/2015</td>\n",
       "      <td>us oil prices slip below 50 a barr</td>\n",
       "      <td>business</td>\n",
       "    </tr>\n",
       "  </tbody>\n",
       "</table>\n",
       "</div>"
      ],
      "text/plain": [
       "                                             article      date  \\\n",
       "0   The Sindh government has decided to bring dow...  1/1/2015   \n",
       "1   Asian markets started 2015 on an upswing in l...  1/2/2015   \n",
       "2    Hong Kong shares opened 0.66 percent lower M...  1/5/2015   \n",
       "3   Asian markets tumbled Tuesday following painf...  1/6/2015   \n",
       "4   US oil prices Monday slipped below $50 a barr...  1/6/2015   \n",
       "\n",
       "                                             heading  newstype  \n",
       "0  sindh govt decides to cut public transport far...  business  \n",
       "1                    asia stocks up in new year trad  business  \n",
       "2           hong kong stocks open 0.66 percent lower  business  \n",
       "3             asian stocks sink euro near nine year   business  \n",
       "4                 us oil prices slip below 50 a barr  business  "
      ]
     },
     "execution_count": 9,
     "metadata": {},
     "output_type": "execute_result"
    }
   ],
   "source": [
    "news_data.head()"
   ]
  },
  {
   "cell_type": "code",
   "execution_count": 10,
   "metadata": {
    "ExecuteTime": {
     "end_time": "2021-04-02T05:50:56.143294Z",
     "start_time": "2021-04-02T05:50:56.122763Z"
    },
    "scrolled": true
   },
   "outputs": [
    {
     "name": "stdout",
     "output_type": "stream",
     "text": [
      "<class 'pandas.core.frame.DataFrame'>\n",
      "RangeIndex: 2692 entries, 0 to 2691\n",
      "Data columns (total 4 columns):\n",
      " #   Column    Non-Null Count  Dtype \n",
      "---  ------    --------------  ----- \n",
      " 0   article   2521 non-null   object\n",
      " 1   date      2692 non-null   object\n",
      " 2   heading   2692 non-null   object\n",
      " 3   newstype  2692 non-null   object\n",
      "dtypes: object(4)\n",
      "memory usage: 84.2+ KB\n"
     ]
    }
   ],
   "source": [
    "news_data.info()"
   ]
  },
  {
   "cell_type": "code",
   "execution_count": 11,
   "metadata": {
    "ExecuteTime": {
     "end_time": "2021-04-02T05:50:58.258658Z",
     "start_time": "2021-04-02T05:50:58.226958Z"
    }
   },
   "outputs": [],
   "source": [
    "news_data.dropna(inplace=True)"
   ]
  },
  {
   "cell_type": "code",
   "execution_count": 12,
   "metadata": {
    "ExecuteTime": {
     "end_time": "2021-04-02T05:51:01.401783Z",
     "start_time": "2021-04-02T05:51:01.390603Z"
    }
   },
   "outputs": [
    {
     "data": {
      "text/plain": [
       "(2521, 4)"
      ]
     },
     "execution_count": 12,
     "metadata": {},
     "output_type": "execute_result"
    }
   ],
   "source": [
    "news_data.shape"
   ]
  },
  {
   "cell_type": "code",
   "execution_count": 13,
   "metadata": {
    "ExecuteTime": {
     "end_time": "2021-04-02T05:51:03.972236Z",
     "start_time": "2021-04-02T05:51:03.960923Z"
    }
   },
   "outputs": [],
   "source": [
    "news_data.drop(['date','heading'],axis=1,inplace=True)"
   ]
  },
  {
   "cell_type": "code",
   "execution_count": 14,
   "metadata": {
    "ExecuteTime": {
     "end_time": "2021-04-02T05:51:04.887207Z",
     "start_time": "2021-04-02T05:51:04.876273Z"
    }
   },
   "outputs": [
    {
     "data": {
      "text/html": [
       "<div>\n",
       "<style scoped>\n",
       "    .dataframe tbody tr th:only-of-type {\n",
       "        vertical-align: middle;\n",
       "    }\n",
       "\n",
       "    .dataframe tbody tr th {\n",
       "        vertical-align: top;\n",
       "    }\n",
       "\n",
       "    .dataframe thead th {\n",
       "        text-align: right;\n",
       "    }\n",
       "</style>\n",
       "<table border=\"1\" class=\"dataframe\">\n",
       "  <thead>\n",
       "    <tr style=\"text-align: right;\">\n",
       "      <th></th>\n",
       "      <th>article</th>\n",
       "      <th>newstype</th>\n",
       "    </tr>\n",
       "  </thead>\n",
       "  <tbody>\n",
       "    <tr>\n",
       "      <th>0</th>\n",
       "      <td>The Sindh government has decided to bring dow...</td>\n",
       "      <td>business</td>\n",
       "    </tr>\n",
       "    <tr>\n",
       "      <th>1</th>\n",
       "      <td>Asian markets started 2015 on an upswing in l...</td>\n",
       "      <td>business</td>\n",
       "    </tr>\n",
       "    <tr>\n",
       "      <th>2</th>\n",
       "      <td>Hong Kong shares opened 0.66 percent lower M...</td>\n",
       "      <td>business</td>\n",
       "    </tr>\n",
       "    <tr>\n",
       "      <th>3</th>\n",
       "      <td>Asian markets tumbled Tuesday following painf...</td>\n",
       "      <td>business</td>\n",
       "    </tr>\n",
       "    <tr>\n",
       "      <th>4</th>\n",
       "      <td>US oil prices Monday slipped below $50 a barr...</td>\n",
       "      <td>business</td>\n",
       "    </tr>\n",
       "  </tbody>\n",
       "</table>\n",
       "</div>"
      ],
      "text/plain": [
       "                                             article  newstype\n",
       "0   The Sindh government has decided to bring dow...  business\n",
       "1   Asian markets started 2015 on an upswing in l...  business\n",
       "2    Hong Kong shares opened 0.66 percent lower M...  business\n",
       "3   Asian markets tumbled Tuesday following painf...  business\n",
       "4   US oil prices Monday slipped below $50 a barr...  business"
      ]
     },
     "execution_count": 14,
     "metadata": {},
     "output_type": "execute_result"
    }
   ],
   "source": [
    "news_data.head()"
   ]
  },
  {
   "cell_type": "code",
   "execution_count": 15,
   "metadata": {
    "ExecuteTime": {
     "end_time": "2021-04-02T05:53:16.733678Z",
     "start_time": "2021-04-02T05:53:16.725049Z"
    }
   },
   "outputs": [],
   "source": [
    "import re\n",
    "def cleaning(s):\n",
    "    s = str(s)\n",
    "    s = s.lower()\n",
    "    s = re.sub('[^a-zA-z]',\" \",s)\n",
    "    return s"
   ]
  },
  {
   "cell_type": "code",
   "execution_count": 16,
   "metadata": {
    "ExecuteTime": {
     "end_time": "2021-04-02T05:53:36.215943Z",
     "start_time": "2021-04-02T05:53:36.208034Z"
    },
    "scrolled": true
   },
   "outputs": [
    {
     "data": {
      "text/plain": [
       "' Oil prices tumbled Tuesday to fresh 5.5-year lows as Saudi Arabia blamed weak global economic growth and said it will stick to its guns on production policy.US benchmark West Texas Intermediate for delivery in February sank $2.11 to $47.93 a barrel, a low last witnessed in late April 2009.Brent North Sea crude for delivery in February dived $2.01 to $51.10 per barrel, the lowest level since early May 2009.\"The market is still worried that there are no signs that the supply glut will start falling,\" Nordea Markets analyst Thina Margrethe Saltvedt told AFP.James Williams of WTRG said the weakness in the market could take prices below $40 a barrel.\"Basically, there are continuing concerns about OPEC not cutting back, particularly Saudi Arabia, and US production continuing to grow,\" he said.Saudi Arabia´s Crown Prince Salman, in a speech on behalf of ailing King Abdullah Tuesday, said weak growth was to blame for the price fall, which has sliced deeply into the income of the world´s largest exporter.\"This development is not new in the oil market, and the kingdom has in the past dealt with it firmly and wisely,\" he said, adding that Saudi Arabia will maintain its \"same approach\" towards the market.That appeared to confirm Riyadh´s determination to defend its market share rather than reduce output, even if that pushes prices lower.On Monday Saudi Arabia reportedly cut its European and US export prices in order to maintain market share. (AFP)                        \\r\\n\\r\\n\\r\\n\\r\\n\\r\\n\\r\\n\\r\\n\\r\\n\\r\\n\\r\\n\\r\\n'"
      ]
     },
     "execution_count": 16,
     "metadata": {},
     "output_type": "execute_result"
    }
   ],
   "source": [
    "news_data.article[5]"
   ]
  },
  {
   "cell_type": "code",
   "execution_count": 17,
   "metadata": {
    "ExecuteTime": {
     "end_time": "2021-04-02T05:53:41.378503Z",
     "start_time": "2021-04-02T05:53:40.979151Z"
    }
   },
   "outputs": [],
   "source": [
    "news_data['article']=news_data['article'].apply(cleaning)"
   ]
  },
  {
   "cell_type": "code",
   "execution_count": 18,
   "metadata": {
    "ExecuteTime": {
     "end_time": "2021-04-02T05:53:42.993297Z",
     "start_time": "2021-04-02T05:53:42.987760Z"
    }
   },
   "outputs": [
    {
     "data": {
      "text/plain": [
       "' oil prices tumbled tuesday to fresh     year lows as saudi arabia blamed weak global economic growth and said it will stick to its guns on production policy us benchmark west texas intermediate for delivery in february sank       to        a barrel  a low last witnessed in late april      brent north sea crude for delivery in february dived       to        per barrel  the lowest level since early may       the market is still worried that there are no signs that the supply glut will start falling   nordea markets analyst thina margrethe saltvedt told afp james williams of wtrg said the weakness in the market could take prices below     a barrel  basically  there are continuing concerns about opec not cutting back  particularly saudi arabia  and us production continuing to grow   he said saudi arabia s crown prince salman  in a speech on behalf of ailing king abdullah tuesday  said weak growth was to blame for the price fall  which has sliced deeply into the income of the world s largest exporter  this development is not new in the oil market  and the kingdom has in the past dealt with it firmly and wisely   he said  adding that saudi arabia will maintain its  same approach  towards the market that appeared to confirm riyadh s determination to defend its market share rather than reduce output  even if that pushes prices lower on monday saudi arabia reportedly cut its european and us export prices in order to maintain market share   afp                                               '"
      ]
     },
     "execution_count": 18,
     "metadata": {},
     "output_type": "execute_result"
    }
   ],
   "source": [
    "news_data.article[5]"
   ]
  },
  {
   "cell_type": "code",
   "execution_count": 19,
   "metadata": {
    "ExecuteTime": {
     "end_time": "2021-04-02T05:56:10.631986Z",
     "start_time": "2021-04-02T05:53:51.598379Z"
    }
   },
   "outputs": [],
   "source": [
    "from nltk.corpus import stopwords\n",
    "from nltk.tokenize import word_tokenize\n",
    "from nltk.stem import WordNetLemmatizer\n",
    "lm=WordNetLemmatizer()\n",
    "news_data['article']=news_data['article'].apply(word_tokenize)\n",
    "news_data['article']=news_data['article'].apply(lambda x:[lm.lemmatize(word) for word in x if word not in \n",
    "                                                          set(stopwords.words('english'))])\n",
    "news_data['article']=news_data['article'].apply(lambda x:' '.join(x))"
   ]
  },
  {
   "cell_type": "code",
   "execution_count": 20,
   "metadata": {
    "ExecuteTime": {
     "end_time": "2021-04-02T05:56:44.049781Z",
     "start_time": "2021-04-02T05:56:44.039536Z"
    },
    "scrolled": true
   },
   "outputs": [
    {
     "data": {
      "text/plain": [
       "'oil price tumbled tuesday fresh year low saudi arabia blamed weak global economic growth said stick gun production policy u benchmark west texas intermediate delivery february sank barrel low last witnessed late april brent north sea crude delivery february dived per barrel lowest level since early may market still worried sign supply glut start falling nordea market analyst thina margrethe saltvedt told afp james williams wtrg said weakness market could take price barrel basically continuing concern opec cutting back particularly saudi arabia u production continuing grow said saudi arabia crown prince salman speech behalf ailing king abdullah tuesday said weak growth blame price fall sliced deeply income world largest exporter development new oil market kingdom past dealt firmly wisely said adding saudi arabia maintain approach towards market appeared confirm riyadh determination defend market share rather reduce output even push price lower monday saudi arabia reportedly cut european u export price order maintain market share afp'"
      ]
     },
     "execution_count": 20,
     "metadata": {},
     "output_type": "execute_result"
    }
   ],
   "source": [
    "news_data.article[5]"
   ]
  },
  {
   "cell_type": "code",
   "execution_count": 21,
   "metadata": {
    "ExecuteTime": {
     "end_time": "2021-04-02T05:56:50.304148Z",
     "start_time": "2021-04-02T05:56:50.297581Z"
    }
   },
   "outputs": [
    {
     "data": {
      "text/plain": [
       "'oil fell asia monday weak demand supply glut putting relentless pressure price already lowest five half year analyst said u benchmark west texas intermediate wti february delivery cent barrel mid morning trade brent crude february dropped cent fundamental factor changed much oversupply demand weak said daniel ang investment analyst phillip future singapore outlook price decline week wti seen touching low brent ang told afp oil price continued tumble headed seventh straight weekly loss key producer show sign cutting output face supply glut singapore united overseas bank said commentary crude price lost half value since middle last year sat well barrel member organization petroleum exporting country pump percent world oil said cut production despite excessive supply afp'"
      ]
     },
     "execution_count": 21,
     "metadata": {},
     "output_type": "execute_result"
    }
   ],
   "source": [
    "news_data.article[7]"
   ]
  },
  {
   "cell_type": "code",
   "execution_count": 22,
   "metadata": {
    "ExecuteTime": {
     "end_time": "2021-04-02T05:56:59.748802Z",
     "start_time": "2021-04-02T05:56:55.003455Z"
    }
   },
   "outputs": [],
   "source": [
    "from sklearn.feature_extraction.text import TfidfVectorizer\n",
    "tfidf=TfidfVectorizer(max_features=300,ngram_range=(1,3))\n",
    "X=tfidf.fit_transform(news_data['article'])"
   ]
  },
  {
   "cell_type": "code",
   "execution_count": 23,
   "metadata": {
    "ExecuteTime": {
     "end_time": "2021-04-02T05:57:18.081719Z",
     "start_time": "2021-04-02T05:57:18.062416Z"
    },
    "scrolled": true
   },
   "outputs": [
    {
     "data": {
      "text/plain": [
       "['according',\n",
       " 'added',\n",
       " 'africa',\n",
       " 'ahead',\n",
       " 'ali',\n",
       " 'already',\n",
       " 'also',\n",
       " 'amir',\n",
       " 'analyst',\n",
       " 'announced',\n",
       " 'another',\n",
       " 'april',\n",
       " 'around',\n",
       " 'asia',\n",
       " 'asian',\n",
       " 'australia',\n",
       " 'back',\n",
       " 'ball',\n",
       " 'bangladesh',\n",
       " 'bank',\n",
       " 'barrel',\n",
       " 'bat',\n",
       " 'batsman',\n",
       " 'benchmark',\n",
       " 'best',\n",
       " 'billion',\n",
       " 'board',\n",
       " 'bowler',\n",
       " 'bowling',\n",
       " 'br',\n",
       " 'brent',\n",
       " 'business',\n",
       " 'came',\n",
       " 'captain',\n",
       " 'cent',\n",
       " 'central',\n",
       " 'century',\n",
       " 'champion',\n",
       " 'chief',\n",
       " 'china',\n",
       " 'chinese',\n",
       " 'close',\n",
       " 'coach',\n",
       " 'come',\n",
       " 'company',\n",
       " 'compared',\n",
       " 'could',\n",
       " 'country',\n",
       " 'cricket',\n",
       " 'crude',\n",
       " 'cup',\n",
       " 'currency',\n",
       " 'cut',\n",
       " 'data',\n",
       " 'day',\n",
       " 'deal',\n",
       " 'decision',\n",
       " 'delivery',\n",
       " 'demand',\n",
       " 'despite',\n",
       " 'development',\n",
       " 'dollar',\n",
       " 'due',\n",
       " 'earlier',\n",
       " 'early',\n",
       " 'economic',\n",
       " 'economy',\n",
       " 'eight',\n",
       " 'end',\n",
       " 'energy',\n",
       " 'england',\n",
       " 'euro',\n",
       " 'european',\n",
       " 'even',\n",
       " 'exchange',\n",
       " 'expected',\n",
       " 'export',\n",
       " 'fast',\n",
       " 'fed',\n",
       " 'federal',\n",
       " 'fell',\n",
       " 'final',\n",
       " 'finance',\n",
       " 'financial',\n",
       " 'first',\n",
       " 'five',\n",
       " 'following',\n",
       " 'foreign',\n",
       " 'former',\n",
       " 'four',\n",
       " 'fourth',\n",
       " 'friday',\n",
       " 'fund',\n",
       " 'future',\n",
       " 'gain',\n",
       " 'game',\n",
       " 'get',\n",
       " 'global',\n",
       " 'go',\n",
       " 'going',\n",
       " 'gold',\n",
       " 'good',\n",
       " 'got',\n",
       " 'government',\n",
       " 'group',\n",
       " 'growth',\n",
       " 'half',\n",
       " 'head',\n",
       " 'help',\n",
       " 'high',\n",
       " 'higher',\n",
       " 'hit',\n",
       " 'home',\n",
       " 'hope',\n",
       " 'host',\n",
       " 'however',\n",
       " 'icc',\n",
       " 'import',\n",
       " 'including',\n",
       " 'increase',\n",
       " 'index',\n",
       " 'india',\n",
       " 'indian',\n",
       " 'indie',\n",
       " 'inning',\n",
       " 'interest',\n",
       " 'interest rate',\n",
       " 'international',\n",
       " 'investment',\n",
       " 'investor',\n",
       " 'iran',\n",
       " 'january',\n",
       " 'job',\n",
       " 'july',\n",
       " 'june',\n",
       " 'khan',\n",
       " 'lanka',\n",
       " 'last',\n",
       " 'last week',\n",
       " 'last year',\n",
       " 'later',\n",
       " 'lead',\n",
       " 'led',\n",
       " 'left',\n",
       " 'level',\n",
       " 'like',\n",
       " 'likely',\n",
       " 'long',\n",
       " 'loss',\n",
       " 'lost',\n",
       " 'low',\n",
       " 'lower',\n",
       " 'made',\n",
       " 'major',\n",
       " 'make',\n",
       " 'many',\n",
       " 'march',\n",
       " 'market',\n",
       " 'match',\n",
       " 'may',\n",
       " 'medium',\n",
       " 'meeting',\n",
       " 'member',\n",
       " 'million',\n",
       " 'million barrel',\n",
       " 'minister',\n",
       " 'minute',\n",
       " 'mohammad',\n",
       " 'monday',\n",
       " 'month',\n",
       " 'much',\n",
       " 'national',\n",
       " 'need',\n",
       " 'new',\n",
       " 'new zealand',\n",
       " 'news',\n",
       " 'next',\n",
       " 'number',\n",
       " 'official',\n",
       " 'oil',\n",
       " 'oil price',\n",
       " 'old',\n",
       " 'one',\n",
       " 'opec',\n",
       " 'open',\n",
       " 'opening',\n",
       " 'order',\n",
       " 'output',\n",
       " 'over',\n",
       " 'pakistan',\n",
       " 'part',\n",
       " 'people',\n",
       " 'per',\n",
       " 'percent',\n",
       " 'petroleum',\n",
       " 'place',\n",
       " 'plan',\n",
       " 'play',\n",
       " 'played',\n",
       " 'player',\n",
       " 'playing',\n",
       " 'point',\n",
       " 'policy',\n",
       " 'power',\n",
       " 'president',\n",
       " 'previous',\n",
       " 'price',\n",
       " 'product',\n",
       " 'production',\n",
       " 'project',\n",
       " 'put',\n",
       " 'rate',\n",
       " 'recent',\n",
       " 'record',\n",
       " 'report',\n",
       " 'reserve',\n",
       " 'return',\n",
       " 'right',\n",
       " 'rose',\n",
       " 'run',\n",
       " 'said',\n",
       " 'sale',\n",
       " 'saturday',\n",
       " 'saudi',\n",
       " 'say',\n",
       " 'scored',\n",
       " 'second',\n",
       " 'sector',\n",
       " 'security',\n",
       " 'see',\n",
       " 'series',\n",
       " 'service',\n",
       " 'session',\n",
       " 'set',\n",
       " 'seven',\n",
       " 'share',\n",
       " 'showed',\n",
       " 'side',\n",
       " 'since',\n",
       " 'six',\n",
       " 'source',\n",
       " 'south',\n",
       " 'south africa',\n",
       " 'spinner',\n",
       " 'sport',\n",
       " 'sri',\n",
       " 'sri lanka',\n",
       " 'stadium',\n",
       " 'start',\n",
       " 'state',\n",
       " 'statement',\n",
       " 'still',\n",
       " 'stock',\n",
       " 'strong',\n",
       " 'strongthe',\n",
       " 'sunday',\n",
       " 'supply',\n",
       " 'support',\n",
       " 'take',\n",
       " 'target',\n",
       " 'tax',\n",
       " 'team',\n",
       " 'term',\n",
       " 'test',\n",
       " 'th',\n",
       " 'third',\n",
       " 'three',\n",
       " 'thursday',\n",
       " 'time',\n",
       " 'title',\n",
       " 'told',\n",
       " 'took',\n",
       " 'top',\n",
       " 'total',\n",
       " 'tour',\n",
       " 'tournament',\n",
       " 'trade',\n",
       " 'trading',\n",
       " 'tuesday',\n",
       " 'twenty',\n",
       " 'two',\n",
       " 'united',\n",
       " 'united state',\n",
       " 'victory',\n",
       " 'way',\n",
       " 'wednesday',\n",
       " 'week',\n",
       " 'well',\n",
       " 'west',\n",
       " 'west indie',\n",
       " 'wicket',\n",
       " 'win',\n",
       " 'woman',\n",
       " 'world',\n",
       " 'world twenty',\n",
       " 'would',\n",
       " 'year',\n",
       " 'year old',\n",
       " 'yen',\n",
       " 'zealand']"
      ]
     },
     "execution_count": 23,
     "metadata": {},
     "output_type": "execute_result"
    }
   ],
   "source": [
    "tfidf.get_feature_names()"
   ]
  },
  {
   "cell_type": "code",
   "execution_count": 24,
   "metadata": {
    "ExecuteTime": {
     "end_time": "2021-04-02T05:57:32.458496Z",
     "start_time": "2021-04-02T05:57:32.450930Z"
    },
    "scrolled": true
   },
   "outputs": [
    {
     "data": {
      "text/plain": [
       "(2521, 300)"
      ]
     },
     "execution_count": 24,
     "metadata": {},
     "output_type": "execute_result"
    }
   ],
   "source": [
    "X.shape"
   ]
  },
  {
   "cell_type": "code",
   "execution_count": 25,
   "metadata": {
    "ExecuteTime": {
     "end_time": "2021-04-02T05:57:41.735189Z",
     "start_time": "2021-04-02T05:57:41.698202Z"
    }
   },
   "outputs": [],
   "source": [
    "from sklearn.decomposition import PCA"
   ]
  },
  {
   "cell_type": "code",
   "execution_count": 26,
   "metadata": {
    "ExecuteTime": {
     "end_time": "2021-04-02T05:57:43.498374Z",
     "start_time": "2021-04-02T05:57:43.312931Z"
    }
   },
   "outputs": [],
   "source": [
    "tfidf_pca=PCA(n_components=2)\n",
    "tfidf_pca_comp=tfidf_pca.fit_transform(X.toarray())"
   ]
  },
  {
   "cell_type": "code",
   "execution_count": 27,
   "metadata": {
    "ExecuteTime": {
     "end_time": "2021-04-02T05:57:45.807345Z",
     "start_time": "2021-04-02T05:57:45.799570Z"
    }
   },
   "outputs": [
    {
     "data": {
      "text/plain": [
       "(2521, 2)"
      ]
     },
     "execution_count": 27,
     "metadata": {},
     "output_type": "execute_result"
    }
   ],
   "source": [
    "tfidf_pca_comp.shape"
   ]
  },
  {
   "cell_type": "markdown",
   "metadata": {},
   "source": [
    "# Training model"
   ]
  },
  {
   "cell_type": "code",
   "execution_count": 28,
   "metadata": {
    "ExecuteTime": {
     "end_time": "2021-04-02T05:57:50.290028Z",
     "start_time": "2021-04-02T05:57:50.172273Z"
    }
   },
   "outputs": [],
   "source": [
    "from sklearn.cluster import KMeans"
   ]
  },
  {
   "cell_type": "code",
   "execution_count": 29,
   "metadata": {
    "ExecuteTime": {
     "end_time": "2021-04-02T05:57:54.859868Z",
     "start_time": "2021-04-02T05:57:52.660893Z"
    }
   },
   "outputs": [],
   "source": [
    "kmeans_per_k=[KMeans(n_clusters=k,init='k-means++',n_init=15).fit(tfidf_pca_comp) for k in range(1,10)]\n",
    "inertias=[model.inertia_ for model in kmeans_per_k]"
   ]
  },
  {
   "cell_type": "code",
   "execution_count": 30,
   "metadata": {
    "ExecuteTime": {
     "end_time": "2021-04-02T05:57:55.741079Z",
     "start_time": "2021-04-02T05:57:55.155292Z"
    }
   },
   "outputs": [
    {
     "data": {
      "image/png": "[encoded data removed]",
      "text/plain": [
       "<Figure size 864x576 with 1 Axes>"
      ]
     },
     "metadata": {
      "needs_background": "light"
     },
     "output_type": "display_data"
    }
   ],
   "source": [
    "plt.figure(figsize=(12,8))\n",
    "plt.plot(range(1,10),inertias,\"bo-\")\n",
    "plt.xlabel(\"$k$\",fontsize=14)\n",
    "plt.ylabel('Inertia',fontsize=14)\n",
    "plt.show()"
   ]
  },
  {
   "cell_type": "code",
   "execution_count": 31,
   "metadata": {
    "ExecuteTime": {
     "end_time": "2021-04-02T05:58:08.373645Z",
     "start_time": "2021-04-02T05:58:07.990575Z"
    }
   },
   "outputs": [],
   "source": [
    "kmeans=KMeans(n_clusters=4,n_init=15)\n",
    "pred=kmeans.fit_predict(tfidf_pca_comp)"
   ]
  },
  {
   "cell_type": "code",
   "execution_count": 32,
   "metadata": {
    "ExecuteTime": {
     "end_time": "2021-04-02T05:58:12.012301Z",
     "start_time": "2021-04-02T05:58:11.410404Z"
    }
   },
   "outputs": [
    {
     "data": {
      "image/png": "[encoded data removed]",
      "text/plain": [
       "<Figure size 1440x1440 with 1 Axes>"
      ]
     },
     "metadata": {
      "needs_background": "light"
     },
     "output_type": "display_data"
    }
   ],
   "source": [
    "plt.figure(figsize=(20,20))\n",
    "plt.scatter(tfidf_pca_comp[pred==0,0],tfidf_pca_comp[pred==0,1],label='Cluster 1')\n",
    "plt.scatter(tfidf_pca_comp[pred==1,0],tfidf_pca_comp[pred==1,1],label='Cluster 2')\n",
    "plt.scatter(tfidf_pca_comp[pred==2,0],tfidf_pca_comp[pred==2,1],label='Cluster 3')\n",
    "plt.scatter(tfidf_pca_comp[pred==3,0],tfidf_pca_comp[pred==3,1],label='Cluster 4')\n",
    "plt.scatter(kmeans.cluster_centers_[:,0],kmeans.cluster_centers_[:,1],s=100,c='black',label='Centroids')\n",
    "plt.legend()\n",
    "plt.show()"
   ]
  },
  {
   "cell_type": "code",
   "execution_count": 33,
   "metadata": {
    "ExecuteTime": {
     "end_time": "2021-04-02T05:58:23.587793Z",
     "start_time": "2021-04-02T05:58:23.581586Z"
    }
   },
   "outputs": [],
   "source": [
    "news_data['clusters']=pred"
   ]
  },
  {
   "cell_type": "code",
   "execution_count": 34,
   "metadata": {
    "ExecuteTime": {
     "end_time": "2021-04-02T05:58:24.954132Z",
     "start_time": "2021-04-02T05:58:24.935938Z"
    },
    "scrolled": true
   },
   "outputs": [
    {
     "data": {
      "text/html": [
       "<div>\n",
       "<style scoped>\n",
       "    .dataframe tbody tr th:only-of-type {\n",
       "        vertical-align: middle;\n",
       "    }\n",
       "\n",
       "    .dataframe tbody tr th {\n",
       "        vertical-align: top;\n",
       "    }\n",
       "\n",
       "    .dataframe thead th {\n",
       "        text-align: right;\n",
       "    }\n",
       "</style>\n",
       "<table border=\"1\" class=\"dataframe\">\n",
       "  <thead>\n",
       "    <tr style=\"text-align: right;\">\n",
       "      <th></th>\n",
       "      <th>article</th>\n",
       "      <th>newstype</th>\n",
       "      <th>clusters</th>\n",
       "    </tr>\n",
       "  </thead>\n",
       "  <tbody>\n",
       "    <tr>\n",
       "      <th>0</th>\n",
       "      <td>sindh government decided bring public transpor...</td>\n",
       "      <td>business</td>\n",
       "      <td>1</td>\n",
       "    </tr>\n",
       "    <tr>\n",
       "      <th>1</th>\n",
       "      <td>asian market started upswing limited trading f...</td>\n",
       "      <td>business</td>\n",
       "      <td>3</td>\n",
       "    </tr>\n",
       "    <tr>\n",
       "      <th>2</th>\n",
       "      <td>hong kong share opened percent lower monday fo...</td>\n",
       "      <td>business</td>\n",
       "      <td>1</td>\n",
       "    </tr>\n",
       "    <tr>\n",
       "      <th>3</th>\n",
       "      <td>asian market tumbled tuesday following painful...</td>\n",
       "      <td>business</td>\n",
       "      <td>3</td>\n",
       "    </tr>\n",
       "    <tr>\n",
       "      <th>4</th>\n",
       "      <td>u oil price monday slipped barrel first time f...</td>\n",
       "      <td>business</td>\n",
       "      <td>3</td>\n",
       "    </tr>\n",
       "  </tbody>\n",
       "</table>\n",
       "</div>"
      ],
      "text/plain": [
       "                                             article  newstype  clusters\n",
       "0  sindh government decided bring public transpor...  business         1\n",
       "1  asian market started upswing limited trading f...  business         3\n",
       "2  hong kong share opened percent lower monday fo...  business         1\n",
       "3  asian market tumbled tuesday following painful...  business         3\n",
       "4  u oil price monday slipped barrel first time f...  business         3"
      ]
     },
     "execution_count": 34,
     "metadata": {},
     "output_type": "execute_result"
    }
   ],
   "source": [
    "news_data.head()"
   ]
  },
  {
   "cell_type": "code",
   "execution_count": 35,
   "metadata": {
    "ExecuteTime": {
     "end_time": "2021-04-02T05:58:27.574293Z",
     "start_time": "2021-04-02T05:58:27.560425Z"
    },
    "scrolled": true
   },
   "outputs": [
    {
     "data": {
      "text/plain": [
       "array([2, 0, 1], dtype=int32)"
      ]
     },
     "execution_count": 35,
     "metadata": {},
     "output_type": "execute_result"
    }
   ],
   "source": [
    "news_data[news_data['newstype']=='sports'].clusters.unique()"
   ]
  },
  {
   "cell_type": "code",
   "execution_count": 36,
   "metadata": {
    "ExecuteTime": {
     "end_time": "2021-04-02T05:58:29.483204Z",
     "start_time": "2021-04-02T05:58:29.472392Z"
    },
    "scrolled": true
   },
   "outputs": [
    {
     "data": {
      "text/plain": [
       "array([1, 3, 2], dtype=int32)"
      ]
     },
     "execution_count": 36,
     "metadata": {},
     "output_type": "execute_result"
    }
   ],
   "source": [
    "news_data[news_data['newstype']=='business'].clusters.unique()"
   ]
  },
  {
   "cell_type": "code",
   "execution_count": 37,
   "metadata": {
    "ExecuteTime": {
     "end_time": "2021-04-02T05:58:32.121312Z",
     "start_time": "2021-04-02T05:58:32.104580Z"
    }
   },
   "outputs": [
    {
     "data": {
      "text/plain": [
       "0.8607419292219624"
      ]
     },
     "execution_count": 37,
     "metadata": {},
     "output_type": "execute_result"
    }
   ],
   "source": [
    "y=news_data['newstype']\n",
    "from sklearn.metrics import homogeneity_score as hs\n",
    "hs(y,pred)"
   ]
  }
 ],
 "metadata": {
  "kernelspec": {
   "display_name": "Python 3",
   "language": "python",
   "name": "python3"
  },
  "language_info": {
   "codemirror_mode": {
    "name": "ipython",
    "version": 3
   },
   "file_extension": ".py",
   "mimetype": "text/x-python",
   "name": "python",
   "nbconvert_exporter": "python",
   "pygments_lexer": "ipython3",
   "version": "3.8.5"
  }
 },
 "nbformat": 4,
 "nbformat_minor": 4
}
